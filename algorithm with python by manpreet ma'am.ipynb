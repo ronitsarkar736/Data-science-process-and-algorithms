{
 "cells": [
  {
   "cell_type": "code",
   "execution_count": 3,
   "id": "a0a25c3d",
   "metadata": {},
   "outputs": [],
   "source": [
    "# arrays \n",
    "import array\n",
    "from array import *"
   ]
  },
  {
   "cell_type": "code",
   "execution_count": 9,
   "id": "e9f1921a",
   "metadata": {},
   "outputs": [
    {
     "name": "stdout",
     "output_type": "stream",
     "text": [
      "array('i', [1, 2, 3, 4, 5])\n"
     ]
    }
   ],
   "source": [
    "list_A=array('i',[1,2,3,4,5])\n",
    "print(list_A)"
   ]
  },
  {
   "cell_type": "code",
   "execution_count": 5,
   "id": "2c60e7f8",
   "metadata": {},
   "outputs": [
    {
     "name": "stdout",
     "output_type": "stream",
     "text": [
      "<class 'array.array'>\n"
     ]
    }
   ],
   "source": [
    "print(type(list_A))"
   ]
  },
  {
   "cell_type": "code",
   "execution_count": 6,
   "id": "759e60b6",
   "metadata": {},
   "outputs": [
    {
     "name": "stdout",
     "output_type": "stream",
     "text": [
      "array('i', [1, 2, 3, 4, 5, 6])\n"
     ]
    }
   ],
   "source": [
    "list_A.append(6)\n",
    "print(list_A)"
   ]
  },
  {
   "cell_type": "code",
   "execution_count": 7,
   "id": "9e94a3f5",
   "metadata": {},
   "outputs": [
    {
     "name": "stdout",
     "output_type": "stream",
     "text": [
      "array('i', [1, 2, -10, 3, 4, 5, 6])\n"
     ]
    }
   ],
   "source": [
    "list_A.insert(2,-10)\n",
    "print(list_A)"
   ]
  },
  {
   "cell_type": "code",
   "execution_count": 8,
   "id": "9d05756f",
   "metadata": {},
   "outputs": [
    {
     "name": "stdout",
     "output_type": "stream",
     "text": [
      "array('i', [1, 2, -10, 3, 5, 6])\n"
     ]
    }
   ],
   "source": [
    "list_A.remove(4)\n",
    "print(list_A)"
   ]
  },
  {
   "cell_type": "code",
   "execution_count": 16,
   "id": "8fb5cd34",
   "metadata": {},
   "outputs": [
    {
     "name": "stdout",
     "output_type": "stream",
     "text": [
      "1\n",
      "2\n",
      "-10\n",
      "3\n",
      "5\n",
      "6\n",
      "6\n"
     ]
    }
   ],
   "source": [
    "for a in arr:\n",
    "    print(a)"
   ]
  },
  {
   "cell_type": "code",
   "execution_count": 3,
   "id": "fc925eb2",
   "metadata": {},
   "outputs": [
    {
     "name": "stdout",
     "output_type": "stream",
     "text": [
      "the value of x is 2\n",
      "the value of y is 1\n"
     ]
    }
   ],
   "source": [
    "#swaping method\n",
    "x=1\n",
    "y=2\n",
    "x,y=y,x\n",
    "print(\"the value of x is\",x)\n",
    "print(\"the value of y is\",y)\n"
   ]
  },
  {
   "cell_type": "code",
   "execution_count": 4,
   "id": "8956aaf2",
   "metadata": {},
   "outputs": [
    {
     "name": "stdout",
     "output_type": "stream",
     "text": [
      "[13, 49, 38, 28]\n"
     ]
    }
   ],
   "source": [
    "list=[38,49,13,28]\n",
    "list[0],list[2]=list[2],list[0]\n",
    "print(list)"
   ]
  },
  {
   "cell_type": "code",
   "execution_count": 10,
   "id": "c28436ec",
   "metadata": {},
   "outputs": [
    {
     "name": "stdout",
     "output_type": "stream",
     "text": [
      "array('i', [13, 39, 43, 67])\n"
     ]
    }
   ],
   "source": [
    "arr=array(\"i\",[39,13,43,67])\n",
    "arr[0],arr[1]=arr[1],arr[0]\n",
    "print(arr)"
   ]
  },
  {
   "cell_type": "code",
   "execution_count": 3,
   "id": "7a645196",
   "metadata": {},
   "outputs": [
    {
     "name": "stdout",
     "output_type": "stream",
     "text": [
      "array('i', [12, 25, 34, 64])\n"
     ]
    }
   ],
   "source": [
    "def bubble_sort(array):\n",
    "    n=len(arr)\n",
    "    for i in range(0,n-1):\n",
    "        for j in range(0,n-i-1):\n",
    "            if arr[j]>arr[j+1]:\n",
    "                arr[j],arr[j+1]=arr[j+1],arr[j]\n",
    "\n",
    "arr=array(\"i\",[64,34,25,12])\n",
    "\n",
    "bubble_sort(arr)\n",
    "print(arr)"
   ]
  },
  {
   "cell_type": "code",
   "execution_count": 10,
   "id": "ff6505c0",
   "metadata": {
    "scrolled": true
   },
   "outputs": [
    {
     "name": "stdout",
     "output_type": "stream",
     "text": [
      "array('i', [2, 12, 23, 34, 53, 54, 67, 87])\n"
     ]
    }
   ],
   "source": [
    "def bubble_sort(array):\n",
    "    n=len(arr)\n",
    "    for i in range(0,n-1):\n",
    "        for j in range(0,n-i-1):\n",
    "            if arr[j]>arr[j+1]:\n",
    "                arr[j],arr[j+1]=arr[j+1],arr[j]\n",
    " \n",
    "arr=array(\"i\",[67,23,54,87,12,2,34,53])\n",
    "\n",
    "bubble_sort(arr)\n",
    "print(arr)"
   ]
  },
  {
   "cell_type": "code",
   "execution_count": 4,
   "id": "0dbee832",
   "metadata": {},
   "outputs": [
    {
     "name": "stdout",
     "output_type": "stream",
     "text": [
      "array('i', [87, 67, 54, 53, 34, 23, 12, 2])\n"
     ]
    }
   ],
   "source": [
    "def bubble_sort(array):\n",
    "    n=len(arr)\n",
    "    for i in range(0,n-1):\n",
    "        for j in range(0,n-i-1):\n",
    "            if arr[j]<arr[j+1]:\n",
    "                arr[j],arr[j+1]=arr[j+1],arr[j]\n",
    "\n",
    "arr=array(\"i\",[67,23,54,87,12,2,34,53])\n",
    "\n",
    "bubble_sort(arr)\n",
    "print(arr)"
   ]
  },
  {
   "cell_type": "code",
   "execution_count": 8,
   "id": "febe860a",
   "metadata": {},
   "outputs": [
    {
     "name": "stdout",
     "output_type": "stream",
     "text": [
      "value of x is : 2\n",
      "value of y is : 1\n",
      "3\n",
      "1 + 2\n",
      "2 1\n"
     ]
    }
   ],
   "source": [
    "#printing variables  \n",
    "x=1\n",
    "y=2\n",
    "print(\"value of x is :\",y)\n",
    "print(\"value of y is :\",x)\n",
    "print(x+y)\n",
    "print(x,\"+\",y)\n",
    "x,y=y,x\n",
    "print(x,y)"
   ]
  },
  {
   "cell_type": "code",
   "execution_count": 3,
   "id": "ccaf4a48",
   "metadata": {},
   "outputs": [],
   "source": [
    "import numpy as np    "
   ]
  },
  {
   "cell_type": "code",
   "execution_count": 7,
   "id": "25450d4a",
   "metadata": {},
   "outputs": [
    {
     "name": "stdout",
     "output_type": "stream",
     "text": [
      "[23, 54, 56, 67]\n",
      "the max1 number is: 67\n",
      "the max2 number is: 56\n",
      "sum is: 123\n",
      "product is: 3752\n",
      "differnce is: 11\n"
     ]
    }
   ],
   "source": [
    "arr=[23,54,56,67]\n",
    "print(arr)\n",
    "max1=max(arr)\n",
    "print(\"the max1 number is:\",max1)\n",
    "arr.remove(max1)\n",
    "max2=max(arr)\n",
    "print(\"the max2 number is:\",max2)\n",
    "add=max1+max2\n",
    "print(\"sum is:\",add)\n",
    "product=max1*max2\n",
    "print(\"product is:\",product)\n",
    "difference=max1-max2\n",
    "print(\"differnce is:\",difference)\n"
   ]
  },
  {
   "cell_type": "code",
   "execution_count": 8,
   "id": "700370f8",
   "metadata": {},
   "outputs": [
    {
     "name": "stdout",
     "output_type": "stream",
     "text": [
      "[23, 54, 56]\n"
     ]
    }
   ],
   "source": []
  },
  {
   "cell_type": "code",
   "execution_count": 34,
   "id": "caff0684",
   "metadata": {},
   "outputs": [
    {
     "name": "stdout",
     "output_type": "stream",
     "text": [
      "array('i', [1, 2, 3, 5, 6, 14, 7, 8, 9, 10])\n",
      "5\n"
     ]
    }
   ],
   "source": [
    "ar=array(\"i\",[1,2,3,5,14,6,7,8,9,10])\n",
    "n=len(ar)//2\n",
    "if ar[n-1]>ar[n]:\n",
    "    ar[n-1],ar[n]=ar[n],ar[n-1]\n",
    "print(ar)\n",
    "print(n)"
   ]
  },
  {
   "cell_type": "code",
   "execution_count": null,
   "id": "09294abb",
   "metadata": {},
   "outputs": [],
   "source": [
    "# create an array consisting of 15 integers break the array into 3 equal parts join the sub parts in reverse order by inserting a zero element in every intersection "
   ]
  },
  {
   "cell_type": "code",
   "execution_count": 5,
   "id": "7887b051",
   "metadata": {},
   "outputs": [
    {
     "name": "stdout",
     "output_type": "stream",
     "text": [
      "array('i', [23, 45])\n",
      "array('i', [32, 65])\n",
      "array('i', [45, 65])\n"
     ]
    }
   ],
   "source": [
    "a=array(\"i\",[23,45,32,65,45,65])\n",
    "n=len(a)//3\n",
    "part1=a[:n]\n",
    "part2=a[n:n*2]\n",
    "part3=a[n*2:]\n",
    "print(part1)\n",
    "print(part2)\n",
    "print(part3)"
   ]
  },
  {
   "cell_type": "code",
   "execution_count": 7,
   "id": "bc0b5987",
   "metadata": {},
   "outputs": [
    {
     "name": "stdout",
     "output_type": "stream",
     "text": [
      "array('i', [45, 65, 0, 0])\n"
     ]
    }
   ],
   "source": [
    "part3.append(0)\n",
    "print(part3)"
   ]
  },
  {
   "cell_type": "code",
   "execution_count": 8,
   "id": "f4afc54d",
   "metadata": {},
   "outputs": [
    {
     "name": "stdout",
     "output_type": "stream",
     "text": [
      "array('i', [45, 65, 0, 0, 32, 65])\n"
     ]
    }
   ],
   "source": [
    "w=part3+part2\n",
    "print(w)"
   ]
  },
  {
   "cell_type": "code",
   "execution_count": 9,
   "id": "5ea6ff4c",
   "metadata": {},
   "outputs": [
    {
     "name": "stdout",
     "output_type": "stream",
     "text": [
      "array('i', [45, 65, 0, 0, 32, 65, 0])\n"
     ]
    }
   ],
   "source": [
    "w.append(0)\n",
    "print(w)"
   ]
  },
  {
   "cell_type": "code",
   "execution_count": 10,
   "id": "2115529a",
   "metadata": {},
   "outputs": [
    {
     "name": "stdout",
     "output_type": "stream",
     "text": [
      "array('i', [45, 65, 0, 0, 32, 65, 0, 23, 45])\n"
     ]
    }
   ],
   "source": [
    "new_array=w+part1\n",
    "print(new_array)"
   ]
  },
  {
   "cell_type": "code",
   "execution_count": 11,
   "id": "2d381d78",
   "metadata": {},
   "outputs": [
    {
     "name": "stdout",
     "output_type": "stream",
     "text": [
      "array('i', [45, 65, 0, 0, 0, 32, 65, 0, 23, 45])\n"
     ]
    }
   ],
   "source": [
    "b=array(\"i\",[0])\n",
    "array_2=part3+b+part2+b+part1\n",
    "print(array_2)\n"
   ]
  },
  {
   "cell_type": "code",
   "execution_count": 1,
   "id": "ec7fbce5",
   "metadata": {},
   "outputs": [
    {
     "name": "stdout",
     "output_type": "stream",
     "text": [
      "black\n"
     ]
    }
   ],
   "source": [
    "#anagram\n",
    "s=\"black\"\n",
    "print(s)"
   ]
  },
  {
   "cell_type": "code",
   "execution_count": 2,
   "id": "5a64bece",
   "metadata": {},
   "outputs": [
    {
     "name": "stdout",
     "output_type": "stream",
     "text": [
      "['b', 'l', 'a', 'c', 'k']\n"
     ]
    }
   ],
   "source": [
    "y=list(s)\n",
    "print(y)"
   ]
  },
  {
   "cell_type": "code",
   "execution_count": 3,
   "id": "02dc8a07",
   "metadata": {},
   "outputs": [
    {
     "name": "stdout",
     "output_type": "stream",
     "text": [
      "['k', 'l', 'a', 'c', 'b']\n"
     ]
    }
   ],
   "source": [
    "y[0],y[4]=y[4],y[0]\n",
    "print(y)"
   ]
  },
  {
   "cell_type": "code",
   "execution_count": 5,
   "id": "9e7a965d",
   "metadata": {},
   "outputs": [
    {
     "name": "stdout",
     "output_type": "stream",
     "text": [
      "klacb\n"
     ]
    }
   ],
   "source": [
    "word=\"\"\n",
    "z=word.join(y)\n",
    "print(z)"
   ]
  },
  {
   "cell_type": "code",
   "execution_count": 6,
   "id": "384ada3f",
   "metadata": {},
   "outputs": [
    {
     "name": "stdout",
     "output_type": "stream",
     "text": [
      "enter the word:bat\n",
      "enter the word:tab\n",
      "a and b are anagram\n"
     ]
    }
   ],
   "source": [
    "#write a programme  to check whether the two given words are ANAGRAM or not. ensure that the words are promtp.\n",
    "a=input(\"enter the word:\")\n",
    "b=input(\"enter the word:\")\n",
    "if sorted(a)==sorted(b):\n",
    "    print(\"a and b are anagram\")\n",
    "else:\n",
    "    print(\"a and b are not anagram\")\n",
    "\n"
   ]
  },
  {
   "cell_type": "code",
   "execution_count": 2,
   "id": "0c9ba92c",
   "metadata": {},
   "outputs": [
    {
     "name": "stdout",
     "output_type": "stream",
     "text": [
      "final result is: [1, 2, 3, 4, 5, 6, 7, 8, 9, 10]\n"
     ]
    }
   ],
   "source": [
    "# write a python programme to remove any duplicate elements in a array \n",
    "a=array(\"i\",[1,2,3,4,5,6,6,7,8,9,8,10])\n",
    "result=[]\n",
    "for x in a:\n",
    "    if x not in result:\n",
    "        result.append(x)\n",
    "print(\"final result is:\",result)"
   ]
  },
  {
   "cell_type": "code",
   "execution_count": 11,
   "id": "c346c6fe",
   "metadata": {},
   "outputs": [
    {
     "name": "stdout",
     "output_type": "stream",
     "text": [
      "enter the word=apple\n",
      "yes your word contain vowel= a\n",
      "yes your word contain vowel= e\n",
      "total vowel in your word= 2\n"
     ]
    }
   ],
   "source": [
    "#finding vowel\n",
    "word = input(\"enter the word=\")\n",
    "count = 0\n",
    "for x in word:\n",
    "    if x in [\"a\",\"e\",\"i\",\"o\",\"u\"]:\n",
    "        print(\"yes your word contain vowel=\",x)\n",
    "        count = count + 1\n",
    "print(\"total vowel in your word=\",count)"
   ]
  },
  {
   "cell_type": "code",
   "execution_count": 12,
   "id": "705fb1df",
   "metadata": {},
   "outputs": [
    {
     "name": "stdout",
     "output_type": "stream",
     "text": [
      "Sorted array: [9, 23, 43, 67, 76, 78]\n"
     ]
    }
   ],
   "source": [
    "# insertion sort\n",
    "def insertion_sort(arr):\n",
    "    for i in range(1, len(arr)):\n",
    "        key = arr[i]\n",
    "        pos = i - 1\n",
    "        while pos >= 0 and key < arr[pos]:\n",
    "            arr[pos + 1] = arr[pos]\n",
    "            pos -= 1\n",
    "        arr[pos + 1] = key\n",
    "myarray = [23,78,9,43,67,76]\n",
    "insertion_sort(myarray)\n",
    "print(\"Sorted array:\", myarray)"
   ]
  },
  {
   "cell_type": "code",
   "execution_count": 14,
   "id": "2213f521",
   "metadata": {},
   "outputs": [
    {
     "name": "stdout",
     "output_type": "stream",
     "text": [
      "Sorted list: [23, 45, 54, 78, 78, 90]\n"
     ]
    }
   ],
   "source": [
    "# selection sort\n",
    "def selection_sort(list):\n",
    "    for i in range(len(list)):\n",
    "        min_index = i\n",
    "        for j in range(i + 1, len(list)):\n",
    "            if list[j] < list[min_index]:\n",
    "                min_index = j\n",
    "        list[i], list[min_index] = list[min_index], list[i]\n",
    "my_list = [54,78,23,78,90,45]\n",
    "selection_sort(my_list)\n",
    "print(\"Sorted list:\", my_list)"
   ]
  },
  {
   "cell_type": "code",
   "execution_count": 25,
   "id": "58053e06",
   "metadata": {},
   "outputs": [
    {
     "name": "stdout",
     "output_type": "stream",
     "text": [
      "2\n",
      "key has been found\n"
     ]
    }
   ],
   "source": [
    "# linear search\n",
    "def find(array,number):\n",
    "    for i in range(len(A)):\n",
    "        if A[i]==key:\n",
    "            return(i) \n",
    "    return -1\n",
    "A=array('i',[13,24,82,19])\n",
    "key=82\n",
    "result=find(A,key)\n",
    "print(result)\n",
    "if result>-1:\n",
    "    print(\"key has been found\")\n",
    "else:\n",
    "    print(\"key does not exist\")"
   ]
  },
  {
   "cell_type": "code",
   "execution_count": 26,
   "id": "6d61a737",
   "metadata": {},
   "outputs": [
    {
     "name": "stdout",
     "output_type": "stream",
     "text": [
      "Fibonacci series upto 2:\n",
      "[0, 1]\n",
      "\n",
      "Fibonacci series upto 5:\n",
      "[0, 1, 1, 2, 3]\n",
      "\n",
      "Fibonacci series upto 6:\n",
      "[0, 1, 1, 2, 3, 5]\n",
      "\n",
      "Fibonacci series upto 9:\n",
      "[0, 1, 1, 2, 3, 5, 8, 13, 21]\n"
     ]
    }
   ],
   "source": [
    "# fibonacci series\n",
    "from functools import reduce\n",
    "fib_series = lambda n: reduce(lambda x, _: x + [x[-1] + x[-2]], range(n - 2), [0, 1])\n",
    "print(\"Fibonacci series upto 2:\")\n",
    "print(fib_series(2))\n",
    "print(\"\\nFibonacci series upto 5:\")\n",
    "print(fib_series(5))\n",
    "print(\"\\nFibonacci series upto 6:\")\n",
    "print(fib_series(6))\n",
    "print(\"\\nFibonacci series upto 9:\")\n",
    "print(fib_series(9))"
   ]
  },
  {
   "cell_type": "code",
   "execution_count": null,
   "id": "191ed925",
   "metadata": {},
   "outputs": [],
   "source": []
  }
 ],
 "metadata": {
  "kernelspec": {
   "display_name": "Python 3 (ipykernel)",
   "language": "python",
   "name": "python3"
  },
  "language_info": {
   "codemirror_mode": {
    "name": "ipython",
    "version": 3
   },
   "file_extension": ".py",
   "mimetype": "text/x-python",
   "name": "python",
   "nbconvert_exporter": "python",
   "pygments_lexer": "ipython3",
   "version": "3.11.5"
  }
 },
 "nbformat": 4,
 "nbformat_minor": 5
}
