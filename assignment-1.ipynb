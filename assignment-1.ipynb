{
 "cells": [
  {
   "cell_type": "code",
   "execution_count": 2,
   "id": "b24916ba",
   "metadata": {},
   "outputs": [],
   "source": [
    "import array\n",
    "from array import *\n"
   ]
  },
  {
   "cell_type": "code",
   "execution_count": 2,
   "id": "2ba31943",
   "metadata": {},
   "outputs": [
    {
     "name": "stdout",
     "output_type": "stream",
     "text": [
      "array('i', [1, 2, 3, 4, 5, 6, 7, 8, 9, 10])\n"
     ]
    }
   ],
   "source": [
    "#array operations\n",
    "\n",
    "numbers=array(\"i\",[1,2,3,4,5,6,7,8,9,10])\n",
    "print(numbers)"
   ]
  },
  {
   "cell_type": "code",
   "execution_count": 3,
   "id": "d5c56bbd",
   "metadata": {},
   "outputs": [
    {
     "name": "stdout",
     "output_type": "stream",
     "text": [
      "55\n"
     ]
    }
   ],
   "source": [
    "print(sum(numbers))"
   ]
  },
  {
   "cell_type": "code",
   "execution_count": 11,
   "id": "b630c5d5",
   "metadata": {},
   "outputs": [
    {
     "name": "stdout",
     "output_type": "stream",
     "text": [
      "5.5\n"
     ]
    }
   ],
   "source": [
    "avg=sum(numbers)/len(numbers)\n",
    "print(avg)"
   ]
  },
  {
   "cell_type": "code",
   "execution_count": 13,
   "id": "ab0ec858",
   "metadata": {},
   "outputs": [
    {
     "data": {
      "text/plain": [
       "10"
      ]
     },
     "execution_count": 13,
     "metadata": {},
     "output_type": "execute_result"
    }
   ],
   "source": [
    "max(numbers)"
   ]
  },
  {
   "cell_type": "code",
   "execution_count": 14,
   "id": "2cbd15e7",
   "metadata": {},
   "outputs": [
    {
     "data": {
      "text/plain": [
       "1"
      ]
     },
     "execution_count": 14,
     "metadata": {},
     "output_type": "execute_result"
    }
   ],
   "source": [
    "min(numbers)"
   ]
  },
  {
   "cell_type": "code",
   "execution_count": 2,
   "id": "577f37dd",
   "metadata": {},
   "outputs": [
    {
     "name": "stdout",
     "output_type": "stream",
     "text": [
      "['lexus', 'mitsubishi', 'audi', 'chevrolet', 'nissan GTR', 'supra', 'mini cooper', 'skoda']\n"
     ]
    }
   ],
   "source": [
    "# arrays manipulation\n",
    "\n",
    "names=[\"lexus\",\"mitsubishi\",\"audi\",\"chevrolet\",\"nissan GTR\",\"supra\",\"mini cooper\",\"skoda\"]\n",
    "print(names)"
   ]
  },
  {
   "cell_type": "code",
   "execution_count": 3,
   "id": "57a5de80",
   "metadata": {},
   "outputs": [
    {
     "name": "stdout",
     "output_type": "stream",
     "text": [
      "['lexus', 'mitsubishi', 'audi', 'chevrolet', 'nissan GTR', 'supra', 'mini cooper', 'skoda', 'jeep', 'tesla']\n"
     ]
    }
   ],
   "source": [
    "names.append(\"jeep\")\n",
    "names.append(\"tesla\")\n",
    "print(names)"
   ]
  },
  {
   "cell_type": "code",
   "execution_count": 9,
   "id": "4fb64c05",
   "metadata": {},
   "outputs": [
    {
     "name": "stdout",
     "output_type": "stream",
     "text": [
      "['lexus', 'mitsubishi', 'audi', 'chevrolet', 'BMW', 'supra', 'mini cooper', 'skoda', 'jeep']\n"
     ]
    }
   ],
   "source": [
    "names[4]=\"BMW\"\n",
    "print(names)"
   ]
  },
  {
   "cell_type": "code",
   "execution_count": 10,
   "id": "ccefaad0",
   "metadata": {
    "scrolled": true
   },
   "outputs": [
    {
     "name": "stdout",
     "output_type": "stream",
     "text": [
      "['lexus', 'mitsubishi', 'audi', 'chevrolet', 'BMW', 'supra', 'mini cooper', 'skoda']\n"
     ]
    }
   ],
   "source": [
    "names.remove(\"jeep\")\n",
    "print(names)"
   ]
  },
  {
   "cell_type": "code",
   "execution_count": 11,
   "id": "5c3b84ea",
   "metadata": {},
   "outputs": [
    {
     "name": "stdout",
     "output_type": "stream",
     "text": [
      "this is the final array ['lexus', 'mitsubishi', 'audi', 'chevrolet', 'BMW', 'supra', 'mini cooper', 'skoda']\n"
     ]
    }
   ],
   "source": [
    "print(\"this is the final array\",names)"
   ]
  },
  {
   "cell_type": "code",
   "execution_count": 4,
   "id": "cceb6a34",
   "metadata": {},
   "outputs": [
    {
     "name": "stdout",
     "output_type": "stream",
     "text": [
      "enter the later that you want to find in the list: b\n",
      "this later is not present in this list\n"
     ]
    }
   ],
   "source": [
    "#searching in arrays\n",
    "\n",
    "names=[\"P\",\"Y\",\"T\",\"H\",\"O\",\"N\"]\n",
    "    \n",
    "a=(input(\"enter the later that you want to find in the list: \"))\n",
    "\n",
    "if a in names:\n",
    "    print(\"yes this later is present\")\n",
    "else:\n",
    "    print(\"this later is not present in this list\")"
   ]
  },
  {
   "cell_type": "code",
   "execution_count": 5,
   "id": "83b7ef0f",
   "metadata": {},
   "outputs": [
    {
     "name": "stdout",
     "output_type": "stream",
     "text": [
      "[5, 4, 8, 7, 9, 3, 2, 1, 6, 10, 11, 15]\n"
     ]
    }
   ],
   "source": [
    "#aray sorting\n",
    "arr=[5,4,8,7,9,3,2,1,6,10,11,15]\n",
    "print(arr)"
   ]
  },
  {
   "cell_type": "code",
   "execution_count": 6,
   "id": "84b91b2c",
   "metadata": {},
   "outputs": [
    {
     "name": "stdout",
     "output_type": "stream",
     "text": [
      "[1, 2, 3, 4, 5, 6, 7, 8, 9, 10, 11, 15]\n"
     ]
    }
   ],
   "source": [
    "arr.sort()\n",
    "print(arr)"
   ]
  },
  {
   "cell_type": "code",
   "execution_count": 8,
   "id": "ae7cf3df",
   "metadata": {},
   "outputs": [
    {
     "name": "stdout",
     "output_type": "stream",
     "text": [
      "[15, 11, 10, 9, 8, 7, 6, 5, 4, 3, 2, 1]\n"
     ]
    }
   ],
   "source": [
    "arr.sort(reverse=True)\n",
    "print(arr)"
   ]
  },
  {
   "cell_type": "code",
   "execution_count": null,
   "id": "d1562cf7",
   "metadata": {},
   "outputs": [],
   "source": []
  }
 ],
 "metadata": {
  "kernelspec": {
   "display_name": "Python 3 (ipykernel)",
   "language": "python",
   "name": "python3"
  },
  "language_info": {
   "codemirror_mode": {
    "name": "ipython",
    "version": 3
   },
   "file_extension": ".py",
   "mimetype": "text/x-python",
   "name": "python",
   "nbconvert_exporter": "python",
   "pygments_lexer": "ipython3",
   "version": "3.11.5"
  }
 },
 "nbformat": 4,
 "nbformat_minor": 5
}
